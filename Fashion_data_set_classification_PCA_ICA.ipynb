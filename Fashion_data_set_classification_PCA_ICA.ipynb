{
 "cells": [
  {
   "cell_type": "code",
   "execution_count": 11,
   "id": "edf8457e",
   "metadata": {},
   "outputs": [
    {
     "name": "stdout",
     "output_type": "stream",
     "text": [
      "(28, 28)\n",
      "(1, 784)\n"
     ]
    },
    {
     "data": {
      "image/png": "[encoded data removed]",
      "text/plain": [
       "<Figure size 432x288 with 1 Axes>"
      ]
     },
     "metadata": {
      "needs_background": "light"
     },
     "output_type": "display_data"
    }
   ],
   "source": [
    "# fashion data \n",
    "\n",
    "import matplotlib.image as mimg\n",
    "import matplotlib.pyplot as plt \n",
    "from sklearn import decomposition,metrics,svm\n",
    "from sklearn.model_selection import train_test_split\n",
    "import numpy as np\n",
    "import pandas as pd\n",
    "path = './train/10071.png'\n",
    "\n",
    "im = mimg.imread(path)\n",
    "\n",
    "Im = im[:,:,0] # first channel\n",
    "print(Im.shape)\n",
    "\n",
    "plt.figure(1)\n",
    "plt.imshow(Im,cmap='gray')\n",
    "plt.axis('off')\n",
    "\n",
    "\n",
    "\n",
    "# convert this Im into feature \n",
    "feat = Im.reshape(1,-1) # 1 row and all values of image pixels are in columns \n",
    "print(feat.shape)\n"
   ]
  },
  {
   "cell_type": "code",
   "execution_count": 18,
   "id": "ab0c1081",
   "metadata": {},
   "outputs": [
    {
     "name": "stdout",
     "output_type": "stream",
     "text": [
      "   id  label\n",
      "0   1      9\n",
      "1   2      0\n",
      "2   3      0\n",
      "3   4      3\n",
      "4   5      0\n",
      "(60000, 784) (60000,)\n"
     ]
    }
   ],
   "source": [
    "# whole dataset process \n",
    "\n",
    "path1 = \"./train.csv\"\n",
    "labl = pd.read_csv(path1)\n",
    "\n",
    "print(labl.head())\n",
    "samples = 60000\n",
    "X = np.zeros((samples,28*28))\n",
    "Images = np.zeros((samples,28,28))\n",
    "y = np.zeros((samples))\n",
    "\n",
    "for i in range(1,samples+1):\n",
    "    path = './train/%d.png'%(i)\n",
    "    im = mimg.imread(path)\n",
    "    Im = im[:,:,0] # first channel\n",
    "    feat = Im.reshape(1,-1)\n",
    "    X[i-1,:]=feat\n",
    "    Images[i-1,:,:]=Im\n",
    "    \n",
    "# labels \n",
    "\n",
    "y = labl['label'].values[:samples]\n",
    "\n",
    "print(X.shape,y.shape)\n",
    "    \n",
    "    \n",
    "    \n",
    "\n"
   ]
  },
  {
   "cell_type": "code",
   "execution_count": 19,
   "id": "c9d8646d",
   "metadata": {},
   "outputs": [],
   "source": [
    "# apply the PCA on the training data \n",
    "pcaModel = decomposition.PCA(n_components=15,random_state=2) \n",
    "XMod = pcaModel.fit_transform(X)\n",
    "\n",
    "# creating ICA model \n",
    "icaModel = decomposition.FastICA(n_components=15,random_state=2)\n",
    "XModICA = icaModel.fit_transform(X)\n",
    "\n",
    "Xtrain,Xtest,ytrain,ytest = train_test_split(X,y,test_size=0.2,random_state=2)\n",
    "XtrainPCA,XtestPCA,ytrainPCA,ytestPCA = train_test_split(XMod,y,test_size=0.2,random_state=2)\n",
    "XtrainICA,XtestICA,ytrainICA,ytestICA = train_test_split(XModICA,y,test_size=0.2,random_state=2)\n",
    "\n",
    "\n"
   ]
  },
  {
   "cell_type": "code",
   "execution_count": 20,
   "id": "587c8caa",
   "metadata": {},
   "outputs": [
    {
     "name": "stdout",
     "output_type": "stream",
     "text": [
      "Accuracy PCA:  0.85025\n"
     ]
    }
   ],
   "source": [
    "# SVM model PCA\n",
    "\n",
    "svmModel = svm.SVC(kernel=\"rbf\")\n",
    "svmModel = svmModel.fit(XtrainPCA,ytrainPCA)\n",
    "opPCA = svmModel.predict(XtestPCA)\n",
    "# acc\n",
    "accPCA = metrics.accuracy_score(ytestPCA,opPCA)\n",
    "print(\"Accuracy PCA: \",accPCA)"
   ]
  },
  {
   "cell_type": "code",
   "execution_count": 21,
   "id": "691b2db9",
   "metadata": {},
   "outputs": [
    {
     "name": "stdout",
     "output_type": "stream",
     "text": [
      "Accuracy ICA:  0.8608333333333333\n"
     ]
    }
   ],
   "source": [
    "# SVM model ICA\n",
    "\n",
    "svmModelIca = svm.SVC(kernel=\"rbf\")\n",
    "svmModelIca = svmModel.fit(XtrainICA,ytrainICA)\n",
    "opIca = svmModel.predict(XtestICA)\n",
    "# acc\n",
    "accIca = metrics.accuracy_score(ytestICA,opIca)\n",
    "print(\"Accuracy ICA: \",accIca)"
   ]
  },
  {
   "cell_type": "code",
   "execution_count": 22,
   "id": "78d2f7c1",
   "metadata": {},
   "outputs": [
    {
     "name": "stdout",
     "output_type": "stream",
     "text": [
      "Accuracy:  0.8875833333333333\n"
     ]
    }
   ],
   "source": [
    "# SVM model without DR\n",
    "\n",
    "svmModelIca = svm.SVC(kernel=\"rbf\")\n",
    "svmModelIca = svmModel.fit(Xtrain,ytrain)\n",
    "op = svmModel.predict(Xtest)\n",
    "# acc\n",
    "acc = metrics.accuracy_score(ytest,op)\n",
    "print(\"Accuracy: \",acc)"
   ]
  },
  {
   "cell_type": "code",
   "execution_count": null,
   "id": "60536ce8",
   "metadata": {},
   "outputs": [],
   "source": []
  }
 ],
 "metadata": {
  "kernelspec": {
   "display_name": "Python 3 (ipykernel)",
   "language": "python",
   "name": "python3"
  },
  "language_info": {
   "codemirror_mode": {
    "name": "ipython",
    "version": 3
   },
   "file_extension": ".py",
   "mimetype": "text/x-python",
   "name": "python",
   "nbconvert_exporter": "python",
   "pygments_lexer": "ipython3",
   "version": "3.9.13"
  }
 },
 "nbformat": 4,
 "nbformat_minor": 5
}
