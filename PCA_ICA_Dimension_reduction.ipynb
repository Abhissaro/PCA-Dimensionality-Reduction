{
 "cells": [
  {
   "cell_type": "code",
   "execution_count": 29,
   "id": "0062306c",
   "metadata": {},
   "outputs": [
    {
     "name": "stderr",
     "output_type": "stream",
     "text": [
      "/Users/vaseemlondoninternational/opt/anaconda3/lib/python3.9/site-packages/sklearn/decomposition/_fastica.py:118: ConvergenceWarning: FastICA did not converge. Consider increasing tolerance or the maximum number of iterations.\n",
      "  warnings.warn('FastICA did not converge. Consider increasing '\n"
     ]
    }
   ],
   "source": [
    "from sklearn import decomposition \n",
    "from sklearn import metrics, datasets, svm\n",
    "from sklearn.model_selection import train_test_split\n",
    "\n",
    "data = datasets.load_digits()\n",
    "\n",
    "X = data.data\n",
    "y = data.target\n",
    "\n",
    "# apply the PCA on the training data \n",
    "pcaModel = decomposition.PCA(n_components=15,random_state=2) \n",
    "XMod = pcaModel.fit_transform(X)\n",
    "\n",
    "# creating ICA model \n",
    "icaModel = decomposition.FastICA(n_components=15,random_state=2)\n",
    "XModICA = icaModel.fit_transform(X)\n",
    "\n",
    "Xtrain,Xtest,ytrain,ytest = train_test_split(X,y,test_size=0.2,random_state=2)\n",
    "XtrainPCA,XtestPCA,ytrainPCA,ytestPCA = train_test_split(XMod,y,test_size=0.2,random_state=2)\n",
    "XtrainICA,XtestICA,ytrainICA,ytestICA = train_test_split(XModICA,y,test_size=0.2,random_state=2)\n",
    "\n",
    "\n",
    "# post the comparative analysis \n",
    "# without DR SVM - acc , with PCA - acc and with ICA  -acc\n",
    "\n",
    "\n"
   ]
  },
  {
   "cell_type": "code",
   "execution_count": 30,
   "id": "f9f18046",
   "metadata": {},
   "outputs": [
    {
     "name": "stdout",
     "output_type": "stream",
     "text": [
      "Accuracy PCA:  0.975\n"
     ]
    }
   ],
   "source": [
    "# SVM model PCA\n",
    "\n",
    "svmModel = svm.SVC(kernel=\"rbf\")\n",
    "svmModel = svmModel.fit(XtrainPCA,ytrainPCA)\n",
    "opPCA = svmModel.predict(XtestPCA)\n",
    "# acc\n",
    "accPCA = metrics.accuracy_score(ytestPCA,opPCA)\n",
    "print(\"Accuracy PCA: \",accPCA)"
   ]
  },
  {
   "cell_type": "code",
   "execution_count": 31,
   "id": "f38122d6",
   "metadata": {},
   "outputs": [
    {
     "name": "stdout",
     "output_type": "stream",
     "text": [
      "Accuracy ICA:  0.9777777777777777\n"
     ]
    }
   ],
   "source": [
    "# SVM model ICA\n",
    "\n",
    "svmModelIca = svm.SVC(kernel=\"rbf\")\n",
    "svmModelIca = svmModel.fit(XtrainICA,ytrainICA)\n",
    "opIca = svmModel.predict(XtestICA)\n",
    "# acc\n",
    "accIca = metrics.accuracy_score(ytestICA,opIca)\n",
    "print(\"Accuracy ICA: \",accIca)"
   ]
  },
  {
   "cell_type": "code",
   "execution_count": 32,
   "id": "ed839954",
   "metadata": {},
   "outputs": [
    {
     "name": "stdout",
     "output_type": "stream",
     "text": [
      "Accuracy:  0.9805555555555555\n"
     ]
    }
   ],
   "source": [
    "# SVM model without DR\n",
    "\n",
    "svmModelIca = svm.SVC(kernel=\"rbf\")\n",
    "svmModelIca = svmModel.fit(Xtrain,ytrain)\n",
    "op = svmModel.predict(Xtest)\n",
    "# acc\n",
    "acc = metrics.accuracy_score(ytest,op)\n",
    "print(\"Accuracy: \",acc)"
   ]
  },
  {
   "cell_type": "code",
   "execution_count": null,
   "id": "9e56c6dc",
   "metadata": {},
   "outputs": [],
   "source": []
  }
 ],
 "metadata": {
  "kernelspec": {
   "display_name": "Python 3 (ipykernel)",
   "language": "python",
   "name": "python3"
  },
  "language_info": {
   "codemirror_mode": {
    "name": "ipython",
    "version": 3
   },
   "file_extension": ".py",
   "mimetype": "text/x-python",
   "name": "python",
   "nbconvert_exporter": "python",
   "pygments_lexer": "ipython3",
   "version": "3.9.13"
  }
 },
 "nbformat": 4,
 "nbformat_minor": 5
}
